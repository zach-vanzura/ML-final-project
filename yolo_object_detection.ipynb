{
 "cells": [
  {
   "cell_type": "code",
   "execution_count": 1,
   "id": "initial_id",
   "metadata": {
    "ExecuteTime": {
     "end_time": "2025-10-22T21:44:42.706318Z",
     "start_time": "2025-10-22T21:44:41.454349Z"
    },
    "collapsed": true
   },
   "outputs": [
    {
     "name": "stdout",
     "output_type": "stream",
     "text": [
      "Collecting ultralytics\n",
      "  Downloading ultralytics-8.3.220-py3-none-any.whl.metadata (37 kB)\n",
      "Requirement already satisfied: numpy>=1.23.0 in /Users/lucasbailey/Downloads/UVM/anaconda3/envs/NLP_env/lib/python3.11/site-packages (from ultralytics) (2.3.3)\n",
      "Requirement already satisfied: matplotlib>=3.3.0 in /Users/lucasbailey/Downloads/UVM/anaconda3/envs/NLP_env/lib/python3.11/site-packages (from ultralytics) (3.10.6)\n",
      "Collecting opencv-python>=4.6.0 (from ultralytics)\n",
      "  Downloading opencv_python-4.12.0.88-cp37-abi3-macosx_13_0_arm64.whl.metadata (19 kB)\n",
      "Requirement already satisfied: pillow>=7.1.2 in /Users/lucasbailey/Downloads/UVM/anaconda3/envs/NLP_env/lib/python3.11/site-packages (from ultralytics) (11.3.0)\n",
      "Requirement already satisfied: pyyaml>=5.3.1 in /Users/lucasbailey/Downloads/UVM/anaconda3/envs/NLP_env/lib/python3.11/site-packages (from ultralytics) (6.0.2)\n",
      "Requirement already satisfied: requests>=2.23.0 in /Users/lucasbailey/Downloads/UVM/anaconda3/envs/NLP_env/lib/python3.11/site-packages (from ultralytics) (2.32.5)\n",
      "Requirement already satisfied: scipy>=1.4.1 in /Users/lucasbailey/Downloads/UVM/anaconda3/envs/NLP_env/lib/python3.11/site-packages (from ultralytics) (1.16.2)\n",
      "Requirement already satisfied: torch>=1.8.0 in /Users/lucasbailey/Downloads/UVM/anaconda3/envs/NLP_env/lib/python3.11/site-packages (from ultralytics) (2.9.0)\n",
      "Collecting torchvision>=0.9.0 (from ultralytics)\n",
      "  Downloading torchvision-0.24.0-cp311-cp311-macosx_11_0_arm64.whl.metadata (5.9 kB)\n",
      "Requirement already satisfied: psutil in /Users/lucasbailey/Downloads/UVM/anaconda3/envs/NLP_env/lib/python3.11/site-packages (from ultralytics) (7.0.0)\n",
      "Collecting polars (from ultralytics)\n",
      "  Downloading polars-1.34.0-py3-none-any.whl.metadata (10 kB)\n",
      "Collecting ultralytics-thop>=2.0.0 (from ultralytics)\n",
      "  Downloading ultralytics_thop-2.0.17-py3-none-any.whl.metadata (14 kB)\n",
      "Requirement already satisfied: contourpy>=1.0.1 in /Users/lucasbailey/Downloads/UVM/anaconda3/envs/NLP_env/lib/python3.11/site-packages (from matplotlib>=3.3.0->ultralytics) (1.3.3)\n",
      "Requirement already satisfied: cycler>=0.10 in /Users/lucasbailey/Downloads/UVM/anaconda3/envs/NLP_env/lib/python3.11/site-packages (from matplotlib>=3.3.0->ultralytics) (0.12.1)\n",
      "Requirement already satisfied: fonttools>=4.22.0 in /Users/lucasbailey/Downloads/UVM/anaconda3/envs/NLP_env/lib/python3.11/site-packages (from matplotlib>=3.3.0->ultralytics) (4.60.0)\n",
      "Requirement already satisfied: kiwisolver>=1.3.1 in /Users/lucasbailey/Downloads/UVM/anaconda3/envs/NLP_env/lib/python3.11/site-packages (from matplotlib>=3.3.0->ultralytics) (1.4.9)\n",
      "Requirement already satisfied: packaging>=20.0 in /Users/lucasbailey/Downloads/UVM/anaconda3/envs/NLP_env/lib/python3.11/site-packages (from matplotlib>=3.3.0->ultralytics) (25.0)\n",
      "Requirement already satisfied: pyparsing>=2.3.1 in /Users/lucasbailey/Downloads/UVM/anaconda3/envs/NLP_env/lib/python3.11/site-packages (from matplotlib>=3.3.0->ultralytics) (3.2.5)\n",
      "Requirement already satisfied: python-dateutil>=2.7 in /Users/lucasbailey/Downloads/UVM/anaconda3/envs/NLP_env/lib/python3.11/site-packages (from matplotlib>=3.3.0->ultralytics) (2.9.0.post0)\n",
      "Collecting numpy>=1.23.0 (from ultralytics)\n",
      "  Downloading numpy-2.2.6-cp311-cp311-macosx_14_0_arm64.whl.metadata (62 kB)\n",
      "Requirement already satisfied: six>=1.5 in /Users/lucasbailey/Downloads/UVM/anaconda3/envs/NLP_env/lib/python3.11/site-packages (from python-dateutil>=2.7->matplotlib>=3.3.0->ultralytics) (1.17.0)\n",
      "Requirement already satisfied: charset_normalizer<4,>=2 in /Users/lucasbailey/Downloads/UVM/anaconda3/envs/NLP_env/lib/python3.11/site-packages (from requests>=2.23.0->ultralytics) (3.4.3)\n",
      "Requirement already satisfied: idna<4,>=2.5 in /Users/lucasbailey/Downloads/UVM/anaconda3/envs/NLP_env/lib/python3.11/site-packages (from requests>=2.23.0->ultralytics) (3.10)\n",
      "Requirement already satisfied: urllib3<3,>=1.21.1 in /Users/lucasbailey/Downloads/UVM/anaconda3/envs/NLP_env/lib/python3.11/site-packages (from requests>=2.23.0->ultralytics) (2.5.0)\n",
      "Requirement already satisfied: certifi>=2017.4.17 in /Users/lucasbailey/Downloads/UVM/anaconda3/envs/NLP_env/lib/python3.11/site-packages (from requests>=2.23.0->ultralytics) (2025.8.3)\n",
      "Requirement already satisfied: filelock in /Users/lucasbailey/Downloads/UVM/anaconda3/envs/NLP_env/lib/python3.11/site-packages (from torch>=1.8.0->ultralytics) (3.20.0)\n",
      "Requirement already satisfied: typing-extensions>=4.10.0 in /Users/lucasbailey/Downloads/UVM/anaconda3/envs/NLP_env/lib/python3.11/site-packages (from torch>=1.8.0->ultralytics) (4.15.0)\n",
      "Requirement already satisfied: sympy>=1.13.3 in /Users/lucasbailey/Downloads/UVM/anaconda3/envs/NLP_env/lib/python3.11/site-packages (from torch>=1.8.0->ultralytics) (1.14.0)\n",
      "Requirement already satisfied: networkx>=2.5.1 in /Users/lucasbailey/Downloads/UVM/anaconda3/envs/NLP_env/lib/python3.11/site-packages (from torch>=1.8.0->ultralytics) (3.5)\n",
      "Requirement already satisfied: jinja2 in /Users/lucasbailey/Downloads/UVM/anaconda3/envs/NLP_env/lib/python3.11/site-packages (from torch>=1.8.0->ultralytics) (3.1.6)\n",
      "Requirement already satisfied: fsspec>=0.8.5 in /Users/lucasbailey/Downloads/UVM/anaconda3/envs/NLP_env/lib/python3.11/site-packages (from torch>=1.8.0->ultralytics) (2025.9.0)\n",
      "Requirement already satisfied: mpmath<1.4,>=1.1.0 in /Users/lucasbailey/Downloads/UVM/anaconda3/envs/NLP_env/lib/python3.11/site-packages (from sympy>=1.13.3->torch>=1.8.0->ultralytics) (1.3.0)\n",
      "Requirement already satisfied: MarkupSafe>=2.0 in /Users/lucasbailey/Downloads/UVM/anaconda3/envs/NLP_env/lib/python3.11/site-packages (from jinja2->torch>=1.8.0->ultralytics) (3.0.2)\n",
      "Collecting polars-runtime-32==1.34.0 (from polars->ultralytics)\n",
      "  Downloading polars_runtime_32-1.34.0-cp39-abi3-macosx_11_0_arm64.whl.metadata (1.5 kB)\n",
      "Downloading ultralytics-8.3.220-py3-none-any.whl (1.1 MB)\n",
      "\u001b[2K   \u001b[90m━━━━━━━━━━━━━━━━━━━━━━━━━━━━━━━━━━━━━━━━\u001b[0m \u001b[32m1.1/1.1 MB\u001b[0m \u001b[31m23.1 MB/s\u001b[0m  \u001b[33m0:00:00\u001b[0m\n",
      "\u001b[?25hDownloading opencv_python-4.12.0.88-cp37-abi3-macosx_13_0_arm64.whl (37.9 MB)\n",
      "\u001b[2K   \u001b[90m━━━━━━━━━━━━━━━━━━━━━━━━━━━━━━━━━━━━━━━━\u001b[0m \u001b[32m37.9/37.9 MB\u001b[0m \u001b[31m30.1 MB/s\u001b[0m  \u001b[33m0:00:01\u001b[0mm0:00:01\u001b[0m00:01\u001b[0m\n",
      "\u001b[?25hDownloading numpy-2.2.6-cp311-cp311-macosx_14_0_arm64.whl (5.4 MB)\n",
      "\u001b[2K   \u001b[90m━━━━━━━━━━━━━━━━━━━━━━━━━━━━━━━━━━━━━━━━\u001b[0m \u001b[32m5.4/5.4 MB\u001b[0m \u001b[31m37.7 MB/s\u001b[0m  \u001b[33m0:00:00\u001b[0m\n",
      "\u001b[?25hDownloading torchvision-0.24.0-cp311-cp311-macosx_11_0_arm64.whl (1.9 MB)\n",
      "\u001b[2K   \u001b[90m━━━━━━━━━━━━━━━━━━━━━━━━━━━━━━━━━━━━━━━━\u001b[0m \u001b[32m1.9/1.9 MB\u001b[0m \u001b[31m36.6 MB/s\u001b[0m  \u001b[33m0:00:00\u001b[0m\n",
      "\u001b[?25hDownloading ultralytics_thop-2.0.17-py3-none-any.whl (28 kB)\n",
      "Downloading polars-1.34.0-py3-none-any.whl (772 kB)\n",
      "\u001b[2K   \u001b[90m━━━━━━━━━━━━━━━━━━━━━━━━━━━━━━━━━━━━━━━━\u001b[0m \u001b[32m772.7/772.7 kB\u001b[0m \u001b[31m29.0 MB/s\u001b[0m  \u001b[33m0:00:00\u001b[0m\n",
      "\u001b[?25hDownloading polars_runtime_32-1.34.0-cp39-abi3-macosx_11_0_arm64.whl (36.0 MB)\n",
      "\u001b[2K   \u001b[90m━━━━━━━━━━━━━━━━━━━━━━━━━━━━━━━━━━━━━━━━\u001b[0m \u001b[32m36.0/36.0 MB\u001b[0m \u001b[31m35.0 MB/s\u001b[0m  \u001b[33m0:00:01\u001b[0m eta \u001b[36m0:00:01\u001b[0m\n",
      "\u001b[?25hInstalling collected packages: polars-runtime-32, numpy, polars, opencv-python, ultralytics-thop, torchvision, ultralytics\n",
      "\u001b[2K  Attempting uninstall: numpy━━━━━━━━━━━━━━━━━━━\u001b[0m \u001b[32m0/7\u001b[0m [polars-runtime-32]\n",
      "\u001b[2K    Found existing installation: numpy 2.3.3\u001b[0m \u001b[32m0/7\u001b[0m [polars-runtime-32]\n",
      "\u001b[2K    Uninstalling numpy-2.3.3:━━━━━━━━━━━━━━━\u001b[0m \u001b[32m0/7\u001b[0m [polars-runtime-32]\n",
      "\u001b[2K      Successfully uninstalled numpy-2.3.3━━\u001b[0m \u001b[32m0/7\u001b[0m [polars-runtime-32]\n",
      "\u001b[2K   \u001b[90m━━━━━━━━━━━━━━━━━━━━━━━━━━━━━━━━━━━━━━━━\u001b[0m \u001b[32m7/7\u001b[0m [ultralytics]\u001b[0m [ultralytics]n]\n",
      "\u001b[1A\u001b[2KSuccessfully installed numpy-2.2.6 opencv-python-4.12.0.88 polars-1.34.0 polars-runtime-32-1.34.0 torchvision-0.24.0 ultralytics-8.3.220 ultralytics-thop-2.0.17\n",
      "Note: you may need to restart the kernel to use updated packages.\n",
      "Creating new Ultralytics Settings v0.0.6 file ✅ \n",
      "View Ultralytics Settings with 'yolo settings' or at '/Users/lucasbailey/Library/Application Support/Ultralytics/settings.json'\n",
      "Update Settings with 'yolo settings key=value', i.e. 'yolo settings runs_dir=path/to/dir'. For help see https://docs.ultralytics.com/quickstart/#ultralytics-settings.\n"
     ]
    }
   ],
   "source": [
    "%pip install ultralytics\n",
    "import ultralytics\n",
    "from ultralytics.data.converter import convert_coco"
   ]
  },
  {
   "cell_type": "code",
   "execution_count": 25,
   "id": "8084fc64",
   "metadata": {},
   "outputs": [],
   "source": [
    "import os, json, requests\n",
    "\n",
    "ann_path = \"Data/annotations.json\"   # make sure this is the real path & case\n",
    "with open(ann_path) as f:\n",
    "    coco = json.load(f)\n",
    "\n",
    "os.makedirs(\"Data/images\", exist_ok=True)\n",
    "\n",
    "for img in coco[\"images\"]:\n",
    "    url = img[\"coco_url\"]           # from your JSON\n",
    "    out = os.path.join(\"Data/images\", img[\"file_name\"])\n",
    "    if not os.path.exists(out):\n",
    "        r = requests.get(url, timeout=30)\n",
    "        r.raise_for_status()\n",
    "        with open(out, \"wb\") as fh:\n",
    "            fh.write(r.content)\n"
   ]
  },
  {
   "cell_type": "markdown",
   "id": "40c4053ee3c6ed09",
   "metadata": {},
   "source": [
    "### This is the example function call from the docs\n",
    "#### https://docs.ultralytics.com/reference/data/converter/#ultralytics.data.converter.convert_coco"
   ]
  },
  {
   "cell_type": "code",
   "execution_count": 29,
   "id": "c88877e04bb73b6f",
   "metadata": {},
   "outputs": [
    {
     "name": "stdout",
     "output_type": "stream",
     "text": [
      "\u001b[KAnnotations /Users/lucasbailey/Downloads/ML-final-project/Data/annotations/annotations.json: 100% ━━━━━━━━━━━━ 50/50 2.1Kit/s 0.0s\n",
      "COCO data converted successfully.\n",
      "Results saved to /Users/lucasbailey/Downloads/ML-final-project/coco_converted\n"
     ]
    }
   ],
   "source": [
    "import shutil\n",
    "from ultralytics.data.converter import convert_coco\n",
    "\n",
    "save_dir = \"coco_converted/\"\n",
    "\n",
    "# remove if it already exists\n",
    "if os.path.exists(save_dir):\n",
    "    shutil.rmtree(save_dir)\n",
    "\n",
    "# now it won't auto-increment\n",
    "convert_coco(\n",
    "    labels_dir=\"Data/annotations\",\n",
    "    save_dir=save_dir,\n",
    "    use_segments=False,\n",
    "    use_keypoints=False,\n",
    "    cls91to80=True,\n",
    "    lvis=False,\n",
    ")"
   ]
  }
 ],
 "metadata": {
  "kernelspec": {
   "display_name": "NLP_env",
   "language": "python",
   "name": "python3"
  },
  "language_info": {
   "codemirror_mode": {
    "name": "ipython",
    "version": 3
   },
   "file_extension": ".py",
   "mimetype": "text/x-python",
   "name": "python",
   "nbconvert_exporter": "python",
   "pygments_lexer": "ipython3",
   "version": "3.11.13"
  }
 },
 "nbformat": 4,
 "nbformat_minor": 5
}
