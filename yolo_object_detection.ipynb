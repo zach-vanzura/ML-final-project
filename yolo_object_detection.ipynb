{
 "cells": [
  {
   "cell_type": "code",
   "id": "initial_id",
   "metadata": {
    "collapsed": true,
    "ExecuteTime": {
     "end_time": "2025-10-22T21:44:42.706318Z",
     "start_time": "2025-10-22T21:44:41.454349Z"
    }
   },
   "source": [
    "%pip install ultralytics\n",
    "import ultralytics"
   ],
   "outputs": [
    {
     "name": "stdout",
     "output_type": "stream",
     "text": [
      "Defaulting to user installation because normal site-packages is not writeable\r\n",
      "Requirement already satisfied: ultralytics in /Users/zachvanzura/Library/Python/3.11/lib/python/site-packages (8.3.220)\r\n",
      "Requirement already satisfied: numpy>=1.23.0 in /Users/zachvanzura/Library/Python/3.11/lib/python/site-packages (from ultralytics) (2.2.6)\r\n",
      "Requirement already satisfied: matplotlib>=3.3.0 in /Users/zachvanzura/Library/Python/3.11/lib/python/site-packages (from ultralytics) (3.10.7)\r\n",
      "Requirement already satisfied: opencv-python>=4.6.0 in /Users/zachvanzura/Library/Python/3.11/lib/python/site-packages (from ultralytics) (4.12.0.88)\r\n",
      "Requirement already satisfied: pillow>=7.1.2 in /Users/zachvanzura/Library/Python/3.11/lib/python/site-packages (from ultralytics) (12.0.0)\r\n",
      "Requirement already satisfied: pyyaml>=5.3.1 in /Users/zachvanzura/Library/Python/3.11/lib/python/site-packages (from ultralytics) (6.0.3)\r\n",
      "Requirement already satisfied: requests>=2.23.0 in /Users/zachvanzura/Library/Python/3.11/lib/python/site-packages (from ultralytics) (2.32.5)\r\n",
      "Requirement already satisfied: scipy>=1.4.1 in /Users/zachvanzura/Library/Python/3.11/lib/python/site-packages (from ultralytics) (1.16.2)\r\n",
      "Requirement already satisfied: torch>=1.8.0 in /Users/zachvanzura/Library/Python/3.11/lib/python/site-packages (from ultralytics) (2.2.2)\r\n",
      "Requirement already satisfied: torchvision>=0.9.0 in /Users/zachvanzura/Library/Python/3.11/lib/python/site-packages (from ultralytics) (0.17.2)\r\n",
      "Requirement already satisfied: psutil in /Users/zachvanzura/Library/Python/3.11/lib/python/site-packages (from ultralytics) (7.1.1)\r\n",
      "Requirement already satisfied: polars in /Users/zachvanzura/Library/Python/3.11/lib/python/site-packages (from ultralytics) (1.34.0)\r\n",
      "Requirement already satisfied: ultralytics-thop>=2.0.0 in /Users/zachvanzura/Library/Python/3.11/lib/python/site-packages (from ultralytics) (2.0.17)\r\n",
      "Requirement already satisfied: contourpy>=1.0.1 in /Users/zachvanzura/Library/Python/3.11/lib/python/site-packages (from matplotlib>=3.3.0->ultralytics) (1.3.3)\r\n",
      "Requirement already satisfied: cycler>=0.10 in /Users/zachvanzura/Library/Python/3.11/lib/python/site-packages (from matplotlib>=3.3.0->ultralytics) (0.12.1)\r\n",
      "Requirement already satisfied: fonttools>=4.22.0 in /Users/zachvanzura/Library/Python/3.11/lib/python/site-packages (from matplotlib>=3.3.0->ultralytics) (4.60.1)\r\n",
      "Requirement already satisfied: kiwisolver>=1.3.1 in /Users/zachvanzura/Library/Python/3.11/lib/python/site-packages (from matplotlib>=3.3.0->ultralytics) (1.4.9)\r\n",
      "Requirement already satisfied: packaging>=20.0 in /Users/zachvanzura/Library/Python/3.11/lib/python/site-packages (from matplotlib>=3.3.0->ultralytics) (25.0)\r\n",
      "Requirement already satisfied: pyparsing>=3 in /Users/zachvanzura/Library/Python/3.11/lib/python/site-packages (from matplotlib>=3.3.0->ultralytics) (3.2.5)\r\n",
      "Requirement already satisfied: python-dateutil>=2.7 in /Users/zachvanzura/Library/Python/3.11/lib/python/site-packages (from matplotlib>=3.3.0->ultralytics) (2.9.0.post0)\r\n",
      "Requirement already satisfied: charset_normalizer<4,>=2 in /Users/zachvanzura/Library/Python/3.11/lib/python/site-packages (from requests>=2.23.0->ultralytics) (3.4.4)\r\n",
      "Requirement already satisfied: idna<4,>=2.5 in /Users/zachvanzura/Library/Python/3.11/lib/python/site-packages (from requests>=2.23.0->ultralytics) (3.11)\r\n",
      "Requirement already satisfied: urllib3<3,>=1.21.1 in /Users/zachvanzura/Library/Python/3.11/lib/python/site-packages (from requests>=2.23.0->ultralytics) (2.5.0)\r\n",
      "Requirement already satisfied: certifi>=2017.4.17 in /Users/zachvanzura/Library/Python/3.11/lib/python/site-packages (from requests>=2.23.0->ultralytics) (2025.10.5)\r\n",
      "Requirement already satisfied: filelock in /Users/zachvanzura/Library/Python/3.11/lib/python/site-packages (from torch>=1.8.0->ultralytics) (3.20.0)\r\n",
      "Requirement already satisfied: typing-extensions>=4.8.0 in /Users/zachvanzura/Library/Python/3.11/lib/python/site-packages (from torch>=1.8.0->ultralytics) (4.15.0)\r\n",
      "Requirement already satisfied: sympy in /Users/zachvanzura/Library/Python/3.11/lib/python/site-packages (from torch>=1.8.0->ultralytics) (1.14.0)\r\n",
      "Requirement already satisfied: networkx in /Users/zachvanzura/Library/Python/3.11/lib/python/site-packages (from torch>=1.8.0->ultralytics) (3.5)\r\n",
      "Requirement already satisfied: jinja2 in /Users/zachvanzura/Library/Python/3.11/lib/python/site-packages (from torch>=1.8.0->ultralytics) (3.1.6)\r\n",
      "Requirement already satisfied: fsspec in /Users/zachvanzura/Library/Python/3.11/lib/python/site-packages (from torch>=1.8.0->ultralytics) (2025.9.0)\r\n",
      "Requirement already satisfied: polars-runtime-32==1.34.0 in /Users/zachvanzura/Library/Python/3.11/lib/python/site-packages (from polars->ultralytics) (1.34.0)\r\n",
      "Requirement already satisfied: six>=1.5 in /Users/zachvanzura/Library/Python/3.11/lib/python/site-packages (from python-dateutil>=2.7->matplotlib>=3.3.0->ultralytics) (1.17.0)\r\n",
      "Requirement already satisfied: MarkupSafe>=2.0 in /Users/zachvanzura/Library/Python/3.11/lib/python/site-packages (from jinja2->torch>=1.8.0->ultralytics) (3.0.3)\r\n",
      "Requirement already satisfied: mpmath<1.4,>=1.1.0 in /Users/zachvanzura/Library/Python/3.11/lib/python/site-packages (from sympy->torch>=1.8.0->ultralytics) (1.3.0)\r\n",
      "\r\n",
      "\u001B[1m[\u001B[0m\u001B[34;49mnotice\u001B[0m\u001B[1;39;49m]\u001B[0m\u001B[39;49m A new release of pip is available: \u001B[0m\u001B[31;49m24.3.1\u001B[0m\u001B[39;49m -> \u001B[0m\u001B[32;49m25.2\u001B[0m\r\n",
      "\u001B[1m[\u001B[0m\u001B[34;49mnotice\u001B[0m\u001B[1;39;49m]\u001B[0m\u001B[39;49m To update, run: \u001B[0m\u001B[32;49mpip3 install --upgrade pip\u001B[0m\r\n",
      "Note: you may need to restart the kernel to use updated packages.\n"
     ]
    }
   ],
   "execution_count": 4
  }
 ],
 "metadata": {
  "kernelspec": {
   "display_name": "Python 3",
   "language": "python",
   "name": "python3"
  },
  "language_info": {
   "codemirror_mode": {
    "name": "ipython",
    "version": 2
   },
   "file_extension": ".py",
   "mimetype": "text/x-python",
   "name": "python",
   "nbconvert_exporter": "python",
   "pygments_lexer": "ipython2",
   "version": "2.7.6"
  }
 },
 "nbformat": 4,
 "nbformat_minor": 5
}
